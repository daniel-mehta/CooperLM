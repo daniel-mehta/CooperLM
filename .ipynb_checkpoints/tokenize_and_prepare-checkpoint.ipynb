{
 "cells": [
  {
   "cell_type": "markdown",
   "id": "07e4c73f-1154-4021-9ff2-a9fdf571c88f",
   "metadata": {},
   "source": [
    "# Tokenize and Prep\n",
    "\n",
    "This notebook loads the cleaned text data (`cleaned_combined.txt`), tokenizes it **line-by-line** using the GPT-2 tokenizer, and flattens all tokens into a single sequence.\n",
    "\n",
    "It then chunks the sequence into fixed-length blocks of 256 tokens using a sliding window (with a stride of 128 tokens), creating overlapping training samples.\n",
    "\n",
    "The final dataset is saved to `tokenized_data/cooper_tokenized_dataset/` in Hugging Face `datasets` format, ready for use during Cooper Model training.\n"
   ]
  },
  {
   "cell_type": "code",
   "execution_count": 1,
   "id": "2146d7f4-2eee-42f5-95fb-08465eb73080",
   "metadata": {},
   "outputs": [],
   "source": [
    "from transformers import GPT2TokenizerFast\n",
    "from datasets import Dataset\n",
    "import os\n",
    "from tqdm import tqdm"
   ]
  },
  {
   "cell_type": "markdown",
   "id": "32e16668-9b9b-4a49-a34c-e4552b53762a",
   "metadata": {},
   "source": [
    "## Load GPT-2 Tokenizer"
   ]
  },
  {
   "cell_type": "code",
   "execution_count": 2,
   "id": "055cf6de-2d0c-4364-a347-8c58de91dec1",
   "metadata": {},
   "outputs": [],
   "source": [
    "# Load Tokenizer\n",
    "\n",
    "tokenizer = GPT2TokenizerFast.from_pretrained(\"gpt2\")\n",
    "tokenizer.pad_token = tokenizer.eos_token"
   ]
  },
  {
   "cell_type": "markdown",
   "id": "77e6b370-9646-4f36-8627-565194c6cbe7",
   "metadata": {},
   "source": [
    "## Load Cleaned Text"
   ]
  },
  {
   "cell_type": "markdown",
   "id": "2f551282-a62d-4526-a721-3b8fb026546d",
   "metadata": {},
   "source": [
    "## Tokenize with Block Size"
   ]
  },
  {
   "cell_type": "code",
   "execution_count": 3,
   "id": "3f918f8b-5c29-4249-ac60-22796d679157",
   "metadata": {},
   "outputs": [
    {
     "name": "stderr",
     "output_type": "stream",
     "text": [
      "Tokenizing lines: 0it [00:00, ?it/s]Token indices sequence length is longer than the specified maximum sequence length for this model (8026 > 1024). Running this sequence through the model will result in indexing errors\n",
      "Tokenizing lines: 41094it [03:48, 180.15it/s]\n"
     ]
    }
   ],
   "source": [
    "#Tokenizing entire dataset line-by-line before applying sliding window\n",
    "block_size = 256\n",
    "stride = 128\n",
    "tokens = []\n",
    "\n",
    "with open(\"raw_data/cleaned_combined.txt\", \"r\", encoding=\"utf-8\") as f:\n",
    "    for line in tqdm(f, desc=\"Tokenizing lines\"):\n",
    "        ids = tokenizer(\n",
    "            line,\n",
    "            return_tensors=None,\n",
    "            truncation=False,\n",
    "            add_special_tokens=False\n",
    "        )[\"input_ids\"]\n",
    "\n",
    "        if isinstance(ids[0], list):\n",
    "            ids = [item for sublist in ids for item in sublist]\n",
    "\n",
    "        tokens.extend(ids)"
   ]
  },
  {
   "cell_type": "code",
   "execution_count": 4,
   "id": "9a0c56a6-3dc9-41c7-a9b1-b5b76263d866",
   "metadata": {},
   "outputs": [
    {
     "name": "stdout",
     "output_type": "stream",
     "text": [
      "Number of samples: 1213568\n"
     ]
    }
   ],
   "source": [
    "#Apply sliding window of 256 tokens with 128-token stride\n",
    "def chunk_tokens(tokens, block_size, stride):\n",
    "    return [tokens[i:i + block_size] for i in range(0, len(tokens) - block_size + 1, stride)]\n",
    "\n",
    "chunks = chunk_tokens(tokens, block_size, stride)\n",
    "print(f\"Number of samples: {len(chunks)}\")"
   ]
  },
  {
   "cell_type": "markdown",
   "id": "124c7429-631a-43e6-b69e-75b8f7898206",
   "metadata": {},
   "source": [
    "## Wrap as Dataset"
   ]
  },
  {
   "cell_type": "code",
   "execution_count": 5,
   "id": "d12d44d3-762d-47c8-b219-fb5c9b2fc787",
   "metadata": {},
   "outputs": [
    {
     "data": {
      "application/vnd.jupyter.widget-view+json": {
       "model_id": "b8b0a23ed13d4794878b958909b951dd",
       "version_major": 2,
       "version_minor": 0
      },
      "text/plain": [
       "Map:   0%|          | 0/1213568 [00:00<?, ? examples/s]"
      ]
     },
     "metadata": {},
     "output_type": "display_data"
    },
    {
     "data": {
      "application/vnd.jupyter.widget-view+json": {
       "model_id": "e4493441c95b41ce986096d7b0a111fc",
       "version_major": 2,
       "version_minor": 0
      },
      "text/plain": [
       "Saving the dataset (0/4 shards):   0%|          | 0/1213568 [00:00<?, ? examples/s]"
      ]
     },
     "metadata": {},
     "output_type": "display_data"
    },
    {
     "name": "stdout",
     "output_type": "stream",
     "text": [
      "Saved 1,213,568 training samples to tokenized_data/cooper_tokenized_dataset\n"
     ]
    }
   ],
   "source": [
    "dataset = Dataset.from_dict({\"input_ids\": chunks})\n",
    "dataset = dataset.map(lambda e: {\"attention_mask\": [1] * len(e[\"input_ids\"])})\n",
    "\n",
    "os.makedirs(\"tokenized_data\", exist_ok=True)\n",
    "dataset.save_to_disk(\"tokenized_data/cooper_tokenized_dataset\")\n",
    "\n",
    "print(f\"Saved {len(dataset):,} training samples to tokenized_data/cooper_tokenized_dataset\")"
   ]
  },
  {
   "cell_type": "markdown",
   "id": "9e95d1b3-6de3-4a51-9df1-bcba05a03b5c",
   "metadata": {},
   "source": [
    "## Check"
   ]
  },
  {
   "cell_type": "code",
   "execution_count": 6,
   "id": "3cbf4190-8543-49a9-af6e-0111d3f1bce3",
   "metadata": {},
   "outputs": [
    {
     "name": "stdout",
     "output_type": "stream",
     "text": [
      "Anarchism is a political philosophy and movement that is sceptical of authority and rejects all involuntary, coercive forms of hierarchy. Anarchism calls for the abolition of the state, which it holds to be unnecessary, undesirable, and harmful. As a historically left-wing movement, placed on the farthest left of the political spectrum, it is usually described alongside communalism and libertarian Marxism as the libertarian wing (libertarian socialism) of the socialist movement, and has a strong historical association with anti-capitalism and socialism. Humans lived in societies without formal hierarchies long before the establishment of formal states, realms, or empires. With the rise of organised hierarchical bodies, scepticism toward authority also rose. Although traces of anarchist thought are found throughout history, modern anarchism emerged from the Enlightenment. During the latter half of the 19th and the first decades of the 20th century, the anarchist movement flourished in most parts of the world and had a significant role in workers' struggles for emancipation. Various anarchist schools of thought formed during this period. Anarchists have taken part in several revolutions, most notably in the Paris Commune, the Russian Civil War and the Spanish Civil War, whose end marked the end of the classical era of anarchism. In the last decades of the 20th and into\n",
      "================================================================================\n",
      " of organised hierarchical bodies, scepticism toward authority also rose. Although traces of anarchist thought are found throughout history, modern anarchism emerged from the Enlightenment. During the latter half of the 19th and the first decades of the 20th century, the anarchist movement flourished in most parts of the world and had a significant role in workers' struggles for emancipation. Various anarchist schools of thought formed during this period. Anarchists have taken part in several revolutions, most notably in the Paris Commune, the Russian Civil War and the Spanish Civil War, whose end marked the end of the classical era of anarchism. In the last decades of the 20th and into the 21st century, the anarchist movement has been resurgent once more. Anarchism employs a diversity of tactics in order to meet its ideal ends which can be broadly separated into revolutionary and evolutionary tactics; there is significant overlap between the two, which are merely descriptive. Revolutionary tactics aim to bring down authority and state, having taken a violent turn in the past, while evolutionary tactics aim to prefigure what an anarchist society would be like. Anarchist thought, criticism, and praxis have played a part in diverse areas of human society. Criticism of anarchism include claims that it is internally inconsistent, violent, or utopian. Etymology,\n",
      "================================================================================\n",
      " the 21st century, the anarchist movement has been resurgent once more. Anarchism employs a diversity of tactics in order to meet its ideal ends which can be broadly separated into revolutionary and evolutionary tactics; there is significant overlap between the two, which are merely descriptive. Revolutionary tactics aim to bring down authority and state, having taken a violent turn in the past, while evolutionary tactics aim to prefigure what an anarchist society would be like. Anarchist thought, criticism, and praxis have played a part in diverse areas of human society. Criticism of anarchism include claims that it is internally inconsistent, violent, or utopian. Etymology, terminology, and definition The etymological origin of anarchism is from the Ancient Greek anarkhia, meaning \"without a ruler\", composed of the prefix an- (\"without\") and the word arkhos (\"leader\" or \"ruler\"). The suffix -ism denotes the ideological current that favours anarchy. Anarchism appears in English from 1642 as anarchisme and anarchy from 1539; early English usages emphasised a sense of disorder. Various factions within the French Revolution labelled their opponents as anarchists, although few such accused shared many views with later anarchists. Many revolutionaries of the 19th century such as William Godwin (\n",
      "================================================================================\n"
     ]
    }
   ],
   "source": [
    "from datasets import load_from_disk\n",
    "\n",
    "tokenizer = GPT2TokenizerFast.from_pretrained(\"gpt2\")\n",
    "dataset = load_from_disk(\"tokenized_data/cooper_tokenized_dataset\")\n",
    "\n",
    "for i in range(3):\n",
    "    sample = dataset[i][\"input_ids\"]\n",
    "    print(tokenizer.decode(sample))\n",
    "    print(\"=\" * 80)\n"
   ]
  },
  {
   "cell_type": "code",
   "execution_count": null,
   "id": "1ff8ba0b-113f-4e2a-9d16-95a1cd597a97",
   "metadata": {},
   "outputs": [],
   "source": []
  }
 ],
 "metadata": {
  "kernelspec": {
   "display_name": "Python 3 (ipykernel)",
   "language": "python",
   "name": "python3"
  },
  "language_info": {
   "codemirror_mode": {
    "name": "ipython",
    "version": 3
   },
   "file_extension": ".py",
   "mimetype": "text/x-python",
   "name": "python",
   "nbconvert_exporter": "python",
   "pygments_lexer": "ipython3",
   "version": "3.10.11"
  }
 },
 "nbformat": 4,
 "nbformat_minor": 5
}
