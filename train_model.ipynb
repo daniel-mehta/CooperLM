{
 "cells": [
  {
   "cell_type": "markdown",
   "id": "4e30b234-0242-4d11-a42a-9987a01bea82",
   "metadata": {},
   "source": [
    "## Train Model"
   ]
  },
  {
   "cell_type": "code",
   "execution_count": 1,
   "id": "448be192-230d-4b7d-9e0c-09c44d66f4b7",
   "metadata": {},
   "outputs": [],
   "source": [
    "from transformers import GPT2TokenizerFast, GPT2Config, GPT2LMHeadModel, DataCollatorForLanguageModeling, TrainingArguments, Trainer\n",
    "import torch\n",
    "from datasets import load_from_disk"
   ]
  },
  {
   "cell_type": "code",
   "execution_count": 2,
   "id": "e207645b-5c08-4cee-9476-76fc00e3bf65",
   "metadata": {},
   "outputs": [
    {
     "name": "stdout",
     "output_type": "stream",
     "text": [
      "CUDA available: True\n",
      "GPU name: NVIDIA GeForce RTX 4060\n"
     ]
    }
   ],
   "source": [
    "print(\"CUDA available:\", torch.cuda.is_available())\n",
    "print(\"GPU name:\", torch.cuda.get_device_name(0))"
   ]
  },
  {
   "cell_type": "code",
   "execution_count": 3,
   "id": "f2d19e70-5f5c-43b8-98ce-aece8d123be8",
   "metadata": {},
   "outputs": [],
   "source": [
    "# Load Tokenizer\n",
    "\n",
    "tokenizer = GPT2TokenizerFast.from_pretrained(\"gpt2\")\n",
    "tokenizer.pad_token = tokenizer.eos_token"
   ]
  },
  {
   "cell_type": "code",
   "execution_count": 4,
   "id": "bf4a745d-044e-4a68-b621-5924a53fedc6",
   "metadata": {},
   "outputs": [
    {
     "data": {
      "application/vnd.jupyter.widget-view+json": {
       "model_id": "a00d58d43bba4c12ac8ddbeb1d6a5ba3",
       "version_major": 2,
       "version_minor": 0
      },
      "text/plain": [
       "Saving the dataset (0/1 shards):   0%|          | 0/200000 [00:00<?, ? examples/s]"
      ]
     },
     "metadata": {},
     "output_type": "display_data"
    }
   ],
   "source": [
    "# Load Tokenized Dataset\n",
    "# Data has 1,213,568 samples so reducing to 200k for time efficency\n",
    "\n",
    "full_dataset = load_from_disk(\"tokenized_data/cooper_tokenized_dataset\")\n",
    "subset = full_dataset.select(range(200_000))  \n",
    "\n",
    "subset.save_to_disk(\"tokenized_data/cooper_subset_200k\")\n",
    "\n",
    "dataset = load_from_disk(\"tokenized_data/cooper_subset_200k\")"
   ]
  },
  {
   "cell_type": "code",
   "execution_count": 5,
   "id": "07332b02-bc04-4794-b01d-16681856b197",
   "metadata": {},
   "outputs": [
    {
     "name": "stdout",
     "output_type": "stream",
     "text": [
      "Model size: 354.04M parameters\n"
     ]
    }
   ],
   "source": [
    "# Define Model Config\n",
    "\n",
    "config = GPT2Config(\n",
    "    vocab_size=tokenizer.vocab_size,\n",
    "    n_positions=256,\n",
    "    n_ctx=256,\n",
    "    n_embd=1024,\n",
    "    n_layer=24,\n",
    "    n_head=16,\n",
    "    bos_token_id=tokenizer.bos_token_id,\n",
    "    eos_token_id=tokenizer.eos_token_id,\n",
    ")\n",
    "\n",
    "model = GPT2LMHeadModel(config)\n",
    "print(f\"Model size: {sum(p.numel() for p in model.parameters()) / 1e6:.2f}M parameters\")"
   ]
  },
  {
   "cell_type": "code",
   "execution_count": 6,
   "id": "5ed827a5-9426-4bdf-a98c-d04f76ee32a0",
   "metadata": {},
   "outputs": [],
   "source": [
    "# Define Data Collator\n",
    "data_collator = DataCollatorForLanguageModeling(\n",
    "    tokenizer=tokenizer,\n",
    "    mlm=False\n",
    ")"
   ]
  },
  {
   "cell_type": "code",
   "execution_count": 7,
   "id": "d5dadaef-60b6-4e2f-a029-f3609d22c243",
   "metadata": {},
   "outputs": [
    {
     "ename": "SyntaxError",
     "evalue": "keyword argument repeated: save_steps (3617627601.py, line 10)",
     "output_type": "error",
     "traceback": [
      "\u001b[1;36m  Cell \u001b[1;32mIn[7], line 10\u001b[1;36m\u001b[0m\n\u001b[1;33m    save_steps=1000,\u001b[0m\n\u001b[1;37m    ^\u001b[0m\n\u001b[1;31mSyntaxError\u001b[0m\u001b[1;31m:\u001b[0m keyword argument repeated: save_steps\n"
     ]
    }
   ],
   "source": [
    "# Training Arguments\n",
    "\n",
    "training_args = TrainingArguments(\n",
    "    output_dir=\"cooper_model_checkpoints\",\n",
    "    overwrite_output_dir=True,\n",
    "    eval_strategy=\"steps\",\n",
    "    eval_steps=500,\n",
    "    save_steps=1000,\n",
    "    logging_steps=100,\n",
    "    per_device_train_batch_size=1,\n",
    "    gradient_accumulation_steps=16,\n",
    "    num_train_epochs=1,\n",
    "    learning_rate=5e-4,\n",
    "    warmup_steps=100,\n",
    "    fp16=True,\n",
    "    save_total_limit=2,\n",
    "    report_to=\"none\",\n",
    "    logging_dir=\"logs\",\n",
    ")\n"
   ]
  },
  {
   "cell_type": "code",
   "execution_count": null,
   "id": "c9a3e1c0-1609-4e20-bf85-ebffed3cb118",
   "metadata": {},
   "outputs": [],
   "source": [
    "# Initialize Trainer\n",
    "dataset_split = dataset.train_test_split(test_size=0.1)\n",
    "\n",
    "trainer = Trainer(\n",
    "    model=model,\n",
    "    args=training_args,\n",
    "    train_dataset=dataset_split[\"train\"],\n",
    "    eval_dataset=dataset_split[\"test\"],\n",
    "    data_collator=data_collator,\n",
    ")"
   ]
  },
  {
   "cell_type": "code",
   "execution_count": null,
   "id": "1b81e452-b4fb-4ad6-9af1-cab453129014",
   "metadata": {},
   "outputs": [],
   "source": [
    "# Train\n",
    "\n",
    "trainer.train()"
   ]
  },
  {
   "cell_type": "code",
   "execution_count": null,
   "id": "8c0189fc-74ea-4cf4-beaa-75f9c8783852",
   "metadata": {},
   "outputs": [],
   "source": [
    "# Save Model\n",
    "\n",
    "model.save_pretrained(\"CooperLM-354M\")\n",
    "tokenizer.save_pretrained(\"CooperLM-354M\")\n",
    "print(\"Model saved to CooperLM-354M/\")"
   ]
  },
  {
   "cell_type": "code",
   "execution_count": null,
   "id": "8fcf9058-d36d-4aa2-835e-92bb5ec806d4",
   "metadata": {},
   "outputs": [],
   "source": [
    "print(TrainingArguments.__module__)\n"
   ]
  },
  {
   "cell_type": "code",
   "execution_count": null,
   "id": "0bd8a188-c222-4f89-9b78-01447802d276",
   "metadata": {},
   "outputs": [],
   "source": []
  }
 ],
 "metadata": {
  "kernelspec": {
   "display_name": "Python 3 (ipykernel)",
   "language": "python",
   "name": "python3"
  },
  "language_info": {
   "codemirror_mode": {
    "name": "ipython",
    "version": 3
   },
   "file_extension": ".py",
   "mimetype": "text/x-python",
   "name": "python",
   "nbconvert_exporter": "python",
   "pygments_lexer": "ipython3",
   "version": "3.10.11"
  }
 },
 "nbformat": 4,
 "nbformat_minor": 5
}
