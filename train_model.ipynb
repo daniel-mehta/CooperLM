{
 "cells": [
  {
   "cell_type": "markdown",
   "id": "4e30b234-0242-4d11-a42a-9987a01bea82",
   "metadata": {},
   "source": [
    "## Train Model"
   ]
  },
  {
   "cell_type": "code",
   "execution_count": 1,
   "id": "448be192-230d-4b7d-9e0c-09c44d66f4b7",
   "metadata": {},
   "outputs": [],
   "source": [
    "from transformers import GPT2TokenizerFast, GPT2Config, GPT2LMHeadModel, DataCollatorForLanguageModeling, TrainingArguments, Trainer\n",
    "import torch\n",
    "from datasets import load_from_disk"
   ]
  },
  {
   "cell_type": "code",
   "execution_count": 2,
   "id": "e207645b-5c08-4cee-9476-76fc00e3bf65",
   "metadata": {},
   "outputs": [
    {
     "name": "stdout",
     "output_type": "stream",
     "text": [
      "CUDA available: True\n",
      "GPU name: NVIDIA GeForce RTX 4060\n"
     ]
    }
   ],
   "source": [
    "print(\"CUDA available:\", torch.cuda.is_available())\n",
    "print(\"GPU name:\", torch.cuda.get_device_name(0))"
   ]
  },
  {
   "cell_type": "code",
   "execution_count": 3,
   "id": "f2d19e70-5f5c-43b8-98ce-aece8d123be8",
   "metadata": {},
   "outputs": [],
   "source": [
    "# Load Tokenizer\n",
    "\n",
    "tokenizer = GPT2TokenizerFast.from_pretrained(\"gpt2\")\n",
    "tokenizer.pad_token = tokenizer.eos_token"
   ]
  },
  {
   "cell_type": "code",
   "execution_count": 4,
   "id": "bf4a745d-044e-4a68-b621-5924a53fedc6",
   "metadata": {},
   "outputs": [
    {
     "data": {
      "application/vnd.jupyter.widget-view+json": {
       "model_id": "c19d8648237749519f4e6e3c2384878c",
       "version_major": 2,
       "version_minor": 0
      },
      "text/plain": [
       "Saving the dataset (0/1 shards):   0%|          | 0/100000 [00:00<?, ? examples/s]"
      ]
     },
     "metadata": {},
     "output_type": "display_data"
    }
   ],
   "source": [
    "# Load Tokenized Dataset\n",
    "# Data has 1,213,568 samples so reducing to 100k for time efficency\n",
    "\n",
    "full_dataset = load_from_disk(\"tokenized_data/cooper_tokenized_dataset\")\n",
    "subset = full_dataset.select(range(100_000))  \n",
    "\n",
    "subset.save_to_disk(\"tokenized_data/cooper_subset_100k\")\n",
    "\n",
    "dataset = load_from_disk(\"tokenized_data/cooper_subset_100k\")"
   ]
  },
  {
   "cell_type": "code",
   "execution_count": 5,
   "id": "07332b02-bc04-4794-b01d-16681856b197",
   "metadata": {},
   "outputs": [
    {
     "name": "stdout",
     "output_type": "stream",
     "text": [
      "Model size: 354.04M parameters\n"
     ]
    }
   ],
   "source": [
    "# Define Model Config\n",
    "\n",
    "config = GPT2Config(\n",
    "    vocab_size=tokenizer.vocab_size,\n",
    "    n_positions=256,\n",
    "    n_ctx=256,\n",
    "    n_embd=1024,\n",
    "    n_layer=24,\n",
    "    n_head=16,\n",
    "    bos_token_id=tokenizer.bos_token_id,\n",
    "    eos_token_id=tokenizer.eos_token_id,\n",
    ")\n",
    "\n",
    "model = GPT2LMHeadModel(config)\n",
    "print(f\"Model size: {sum(p.numel() for p in model.parameters()) / 1e6:.2f}M parameters\")"
   ]
  },
  {
   "cell_type": "code",
   "execution_count": 6,
   "id": "5ed827a5-9426-4bdf-a98c-d04f76ee32a0",
   "metadata": {},
   "outputs": [],
   "source": [
    "# Define Data Collator\n",
    "data_collator = DataCollatorForLanguageModeling(\n",
    "    tokenizer=tokenizer,\n",
    "    mlm=False\n",
    ")"
   ]
  },
  {
   "cell_type": "code",
   "execution_count": 7,
   "id": "d5dadaef-60b6-4e2f-a029-f3609d22c243",
   "metadata": {},
   "outputs": [],
   "source": [
    "# Training Arguments\n",
    "\n",
    "training_args = TrainingArguments(\n",
    "    output_dir=\"cooper_model_checkpoints\",\n",
    "    overwrite_output_dir=True,\n",
    "    eval_strategy=\"steps\",\n",
    "    eval_steps=500,\n",
    "    save_steps=1000,\n",
    "    logging_steps=100,\n",
    "    per_device_train_batch_size=1,\n",
    "    gradient_accumulation_steps=16,\n",
    "    num_train_epochs=1,\n",
    "    learning_rate=5e-4,\n",
    "    warmup_steps=100,\n",
    "    fp16=True,\n",
    "    save_total_limit=2,\n",
    "    report_to=\"none\",\n",
    "    logging_dir=\"logs\",\n",
    ")\n"
   ]
  },
  {
   "cell_type": "code",
   "execution_count": 8,
   "id": "c9a3e1c0-1609-4e20-bf85-ebffed3cb118",
   "metadata": {},
   "outputs": [],
   "source": [
    "# Initialize Trainer\n",
    "dataset_split = dataset.train_test_split(test_size=0.1)\n",
    "\n",
    "trainer = Trainer(\n",
    "    model=model,\n",
    "    args=training_args,\n",
    "    train_dataset=dataset_split[\"train\"],\n",
    "    eval_dataset=dataset_split[\"test\"],\n",
    "    data_collator=data_collator,\n",
    ")"
   ]
  },
  {
   "cell_type": "code",
   "execution_count": 9,
   "id": "1b81e452-b4fb-4ad6-9af1-cab453129014",
   "metadata": {},
   "outputs": [
    {
     "name": "stderr",
     "output_type": "stream",
     "text": [
      "`loss_type=None` was set in the config but it is unrecognised.Using the default loss: `ForCausalLMLoss`.\n"
     ]
    },
    {
     "data": {
      "text/html": [
       "\n",
       "    <div>\n",
       "      \n",
       "      <progress value='5625' max='5625' style='width:300px; height:20px; vertical-align: middle;'></progress>\n",
       "      [5625/5625 14:35:31, Epoch 1/1]\n",
       "    </div>\n",
       "    <table border=\"1\" class=\"dataframe\">\n",
       "  <thead>\n",
       " <tr style=\"text-align: left;\">\n",
       "      <th>Step</th>\n",
       "      <th>Training Loss</th>\n",
       "      <th>Validation Loss</th>\n",
       "    </tr>\n",
       "  </thead>\n",
       "  <tbody>\n",
       "    <tr>\n",
       "      <td>500</td>\n",
       "      <td>6.709800</td>\n",
       "      <td>6.661433</td>\n",
       "    </tr>\n",
       "    <tr>\n",
       "      <td>1000</td>\n",
       "      <td>6.350000</td>\n",
       "      <td>6.327674</td>\n",
       "    </tr>\n",
       "    <tr>\n",
       "      <td>1500</td>\n",
       "      <td>6.151800</td>\n",
       "      <td>6.112556</td>\n",
       "    </tr>\n",
       "    <tr>\n",
       "      <td>2000</td>\n",
       "      <td>6.016300</td>\n",
       "      <td>5.996645</td>\n",
       "    </tr>\n",
       "    <tr>\n",
       "      <td>2500</td>\n",
       "      <td>5.923900</td>\n",
       "      <td>5.903530</td>\n",
       "    </tr>\n",
       "    <tr>\n",
       "      <td>3000</td>\n",
       "      <td>5.853800</td>\n",
       "      <td>5.845378</td>\n",
       "    </tr>\n",
       "    <tr>\n",
       "      <td>3500</td>\n",
       "      <td>5.829700</td>\n",
       "      <td>5.796227</td>\n",
       "    </tr>\n",
       "    <tr>\n",
       "      <td>4000</td>\n",
       "      <td>5.751000</td>\n",
       "      <td>5.750268</td>\n",
       "    </tr>\n",
       "    <tr>\n",
       "      <td>4500</td>\n",
       "      <td>5.722800</td>\n",
       "      <td>5.704636</td>\n",
       "    </tr>\n",
       "    <tr>\n",
       "      <td>5000</td>\n",
       "      <td>5.698800</td>\n",
       "      <td>5.656058</td>\n",
       "    </tr>\n",
       "    <tr>\n",
       "      <td>5500</td>\n",
       "      <td>5.670000</td>\n",
       "      <td>5.626952</td>\n",
       "    </tr>\n",
       "  </tbody>\n",
       "</table><p>"
      ],
      "text/plain": [
       "<IPython.core.display.HTML object>"
      ]
     },
     "metadata": {},
     "output_type": "display_data"
    },
    {
     "data": {
      "text/plain": [
       "TrainOutput(global_step=5625, training_loss=6.03898296983507, metrics={'train_runtime': 52533.0982, 'train_samples_per_second': 1.713, 'train_steps_per_second': 0.107, 'total_flos': 4.179153125376e+16, 'train_loss': 6.03898296983507, 'epoch': 1.0})"
      ]
     },
     "execution_count": 9,
     "metadata": {},
     "output_type": "execute_result"
    }
   ],
   "source": [
    "# Train\n",
    "\n",
    "trainer.train()"
   ]
  },
  {
   "cell_type": "code",
   "execution_count": 10,
   "id": "8c0189fc-74ea-4cf4-beaa-75f9c8783852",
   "metadata": {},
   "outputs": [
    {
     "name": "stdout",
     "output_type": "stream",
     "text": [
      "Model saved to CooperLM-354M/\n"
     ]
    }
   ],
   "source": [
    "# Save Model\n",
    "\n",
    "model.save_pretrained(\"CooperLM-354M\")\n",
    "tokenizer.save_pretrained(\"CooperLM-354M\")\n",
    "print(\"Model saved to CooperLM-354M/\")"
   ]
  },
  {
   "cell_type": "code",
   "execution_count": 11,
   "id": "8fcf9058-d36d-4aa2-835e-92bb5ec806d4",
   "metadata": {},
   "outputs": [
    {
     "name": "stdout",
     "output_type": "stream",
     "text": [
      "transformers.training_args\n"
     ]
    }
   ],
   "source": [
    "print(TrainingArguments.__module__)\n"
   ]
  },
  {
   "cell_type": "markdown",
   "id": "f462dcd5-c06a-479a-808c-6f494e0d87a4",
   "metadata": {},
   "source": [
    "## Quick Test"
   ]
  },
  {
   "cell_type": "code",
   "execution_count": 14,
   "id": "439c7ffa-4b9c-41ae-ae17-100903b7f8c3",
   "metadata": {},
   "outputs": [
    {
     "name": "stderr",
     "output_type": "stream",
     "text": [
      "The attention mask is not set and cannot be inferred from input because pad token is same as eos token. As a consequence, you may observe unexpected behavior. Please pass your input's `attention_mask` to obtain reliable results.\n"
     ]
    },
    {
     "name": "stdout",
     "output_type": "stream",
     "text": [
      "=== Prompt ===\n",
      "Hello, my name is\n",
      "\n",
      "=== Completion ===\n",
      "Hello, my name is the most of the city of Europe. This is also the largest city is only a total of the west-mordered by most important elevation of the country's second in the region of the city by the south. The area\n"
     ]
    }
   ],
   "source": [
    "from transformers import GPT2LMHeadModel, GPT2TokenizerFast\n",
    "import torch\n",
    "\n",
    "def test_cooper_model(model_path=\"CooperLM-354M\", prompt=\"Hello, my name is\", max_length=50):\n",
    "    # Load model and tokenizer\n",
    "    tokenizer = GPT2TokenizerFast.from_pretrained(model_path)\n",
    "    model = GPT2LMHeadModel.from_pretrained(model_path).to(\"cuda\" if torch.cuda.is_available() else \"cpu\")\n",
    "    \n",
    "    # Tokenize prompt\n",
    "    input_ids = tokenizer(prompt, return_tensors=\"pt\").input_ids.to(model.device)\n",
    "    \n",
    "    # Generate\n",
    "    output = model.generate(\n",
    "        input_ids,\n",
    "        max_length=max_length,\n",
    "        do_sample=True,\n",
    "        temperature=0.9,\n",
    "        top_p=0.95,\n",
    "        pad_token_id=tokenizer.eos_token_id\n",
    "    )\n",
    "    \n",
    "    # Decode and print result\n",
    "    generated = tokenizer.decode(output[0], skip_special_tokens=True)\n",
    "    print(\"=== Prompt ===\")\n",
    "    print(prompt)\n",
    "    print(\"\\n=== Completion ===\")\n",
    "    print(generated)\n",
    "\n",
    "test_cooper_model()"
   ]
  },
  {
   "cell_type": "code",
   "execution_count": 15,
   "id": "5333383c-853a-4a9f-8770-0036fa68127f",
   "metadata": {},
   "outputs": [
    {
     "name": "stdout",
     "output_type": "stream",
     "text": [
      "=== Prompt ===\n",
      "In the distant future,\n",
      "\n",
      "=== Completion ===\n",
      "In the distant future, he went down his \"father\" to the book's work as a character at the death and, when he used that he knew, it will be a new book. He was \"unach and the last of the most\n"
     ]
    }
   ],
   "source": [
    "test_cooper_model(prompt=\"In the distant future,\")"
   ]
  },
  {
   "cell_type": "code",
   "execution_count": null,
   "id": "66dd4fa9-7105-473d-8323-522455353530",
   "metadata": {},
   "outputs": [],
   "source": []
  }
 ],
 "metadata": {
  "kernelspec": {
   "display_name": "Python 3 (ipykernel)",
   "language": "python",
   "name": "python3"
  },
  "language_info": {
   "codemirror_mode": {
    "name": "ipython",
    "version": 3
   },
   "file_extension": ".py",
   "mimetype": "text/x-python",
   "name": "python",
   "nbconvert_exporter": "python",
   "pygments_lexer": "ipython3",
   "version": "3.10.11"
  }
 },
 "nbformat": 4,
 "nbformat_minor": 5
}
